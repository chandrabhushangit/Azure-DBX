{
 "cells": [
  {
   "cell_type": "code",
   "execution_count": 0,
   "metadata": {
    "application/vnd.databricks.v1+cell": {
     "cellMetadata": {
      "byteLimit": 2048000,
      "rowLimit": 10000
     },
     "inputWidgets": {},
     "nuid": "31f78946-17d3-4ee2-a798-96e2f5abe22f",
     "showTitle": false,
     "tableResultSettingsMap": {},
     "title": ""
    }
   },
   "outputs": [],
   "source": [
    "CREATE OR REPLACE TABLE jpm.chandra_silver.silver_customer AS\n",
    "SELECT\n",
    "    cust_id,\n",
    "    name,\n",
    "    CAST(age AS INT) AS age,\n",
    "    gender,\n",
    "    birthday,\n",
    "    cast(zip as int) as zip,\n",
    "    REPLACE(city, '_', ' ') AS city\n",
    "FROM jpm.chandra_bronze.customer_bronze;\n"
   ]
  },
  {
   "cell_type": "code",
   "execution_count": 0,
   "metadata": {
    "application/vnd.databricks.v1+cell": {
     "cellMetadata": {
      "byteLimit": 2048000,
      "rowLimit": 10000
     },
     "inputWidgets": {},
     "nuid": "55af9975-5453-423d-b4d8-0af5fd5ccd7b",
     "showTitle": false,
     "tableResultSettingsMap": {},
     "title": ""
    }
   },
   "outputs": [],
   "source": [
    "CREATE OR REPLACE TABLE jpm.chandra_silver.silver_transaction AS\n",
    "SELECT DISTINCT\n",
    "    cust_id,\n",
    "    start_date,\n",
    "    end_date,\n",
    "    txn_id,\n",
    "    date,\n",
    "    year,\n",
    "    month,\n",
    "    day,\n",
    "    expense_type,\n",
    "    CAST(amt AS DECIMAL(10,2)) AS amt,\n",
    "    REPLACE(city, '_', ' ') AS city\n",
    "FROM jpm.naval_bronze.transaction_bronze;\n"
   ]
  },
  {
   "cell_type": "code",
   "execution_count": 0,
   "metadata": {
    "application/vnd.databricks.v1+cell": {
     "cellMetadata": {
      "byteLimit": 2048000,
      "rowLimit": 10000
     },
     "inputWidgets": {},
     "nuid": "d2e7e535-71d0-446f-8f66-3f8442ab1667",
     "showTitle": false,
     "tableResultSettingsMap": {},
     "title": ""
    }
   },
   "outputs": [],
   "source": [
    "%sql\n",
    "create or replace  view jpm.chandra_silver.silver_customer_view as select * from jpm.chandra_silver.silver_customer;\n",
    "create view jpm.chandra_silver.silver_transaction_view as select * from jpm.chandra_silver.silver_transaction;"
   ]
  },
  {
   "cell_type": "code",
   "execution_count": 0,
   "metadata": {
    "application/vnd.databricks.v1+cell": {
     "cellMetadata": {
      "byteLimit": 2048000,
      "rowLimit": 10000
     },
     "inputWidgets": {},
     "nuid": "6a46e0bf-d2fa-48dd-96e5-8665e7e1099d",
     "showTitle": false,
     "tableResultSettingsMap": {},
     "title": ""
    }
   },
   "outputs": [],
   "source": [
    "%python\n",
    "df_cust = spark.sql(\"select * from jpm.chandra_silver.silver_customer_view\")\n",
    "df_trans = spark.sql(\"select * from jpm.chandra_silver.silver_transaction_view\")\n",
    "\n",
    "df_joined = df_cust.join(df_trans, df_cust.cust_id == df_trans.cust_id)\n",
    "\n",
    "display(df_joined)\n"
   ]
  },
  {
   "cell_type": "code",
   "execution_count": 0,
   "metadata": {
    "application/vnd.databricks.v1+cell": {
     "cellMetadata": {
      "byteLimit": 2048000,
      "rowLimit": 10000
     },
     "inputWidgets": {},
     "nuid": "fa01b6bc-0dba-4c15-9f68-5415b512a582",
     "showTitle": false,
     "tableResultSettingsMap": {},
     "title": ""
    }
   },
   "outputs": [],
   "source": [
    "CREATE OR REPLACE VIEW jpm.chandra_gold.df_joined AS\n",
    "SELECT\n",
    "    t.cust_id,\n",
    "    c.name,\n",
    "    t.start_date,\n",
    "    t.end_date,\n",
    "    t.txn_id,\n",
    "    t.date,\n",
    "    t.year,\n",
    "    t.month,\n",
    "    t.day,\n",
    "    t.expense_type,\n",
    "    t.amt,\n",
    "    t.city,\n",
    "    c.age,\n",
    "    c.gender,\n",
    "    c.birthday,\n",
    "    c.zip\n",
    "FROM\n",
    "    jpm.chandra_silver.silver_transaction t\n",
    "JOIN\n",
    "    jpm.chandra_silver.silver_customer c\n",
    "ON\n",
    "    t.cust_id = c.cust_id;"
   ]
  },
  {
   "cell_type": "code",
   "execution_count": 0,
   "metadata": {
    "application/vnd.databricks.v1+cell": {
     "cellMetadata": {
      "byteLimit": 2048000,
      "rowLimit": 10000
     },
     "inputWidgets": {},
     "nuid": "82a2d771-977b-437b-b726-85fc775fe3a2",
     "showTitle": false,
     "tableResultSettingsMap": {},
     "title": ""
    }
   },
   "outputs": [],
   "source": [
    "CREATE OR REPLACE TABLE jpm.chandra_gold.top_customers AS\n",
    "SELECT\n",
    "    cust_id,\n",
    "    name,\n",
    "    SUM(amt) AS total_spent,\n",
    "    RANK() OVER (ORDER BY SUM(amt) DESC) AS rank\n",
    "FROM\n",
    "    jpm.chandra_gold.df_joined\n",
    "GROUP BY\n",
    "    cust_id;"
   ]
  },
  {
   "cell_type": "code",
   "execution_count": 0,
   "metadata": {
    "application/vnd.databricks.v1+cell": {
     "cellMetadata": {
      "byteLimit": 2048000,
      "rowLimit": 10000
     },
     "inputWidgets": {},
     "nuid": "4164b6ff-fefa-483d-8657-a9989e12f1c6",
     "showTitle": false,
     "tableResultSettingsMap": {},
     "title": ""
    }
   },
   "outputs": [],
   "source": [
    "select * from jpm.chandra_gold.top_customers;"
   ]
  },
  {
   "cell_type": "code",
   "execution_count": 0,
   "metadata": {
    "application/vnd.databricks.v1+cell": {
     "cellMetadata": {},
     "inputWidgets": {},
     "nuid": "2d4faad9-a3bb-43ef-917c-5c0880ee7c25",
     "showTitle": false,
     "tableResultSettingsMap": {},
     "title": ""
    }
   },
   "outputs": [],
   "source": []
  }
 ],
 "metadata": {
  "application/vnd.databricks.v1+notebook": {
   "computePreferences": null,
   "dashboards": [],
   "environmentMetadata": {
    "base_environment": "",
    "environment_version": "2"
   },
   "language": "sql",
   "notebookMetadata": {
    "pythonIndentUnit": 4
   },
   "notebookName": "(Clone) Silver",
   "widgets": {}
  },
  "language_info": {
   "name": "sql"
  }
 },
 "nbformat": 4,
 "nbformat_minor": 0
}
